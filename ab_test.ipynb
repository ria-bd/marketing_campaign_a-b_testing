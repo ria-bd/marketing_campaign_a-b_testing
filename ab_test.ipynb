{
 "cells": [
  {
   "cell_type": "code",
   "execution_count": 1,
   "metadata": {},
   "outputs": [],
   "source": [
    "# Import modules\n",
    "import pandas as pd\n",
    "import numpy as np\n",
    "import matplotlib.pyplot as plt\n",
    "import seaborn as sns\n",
    "\n",
    "import warnings\n",
    "warnings.simplefilter('ignore')"
   ]
  },
  {
   "cell_type": "markdown",
   "metadata": {},
   "source": [
    "## Import Data"
   ]
  },
  {
   "cell_type": "code",
   "execution_count": 2,
   "metadata": {},
   "outputs": [
    {
     "data": {
      "text/html": [
       "<div>\n",
       "<style scoped>\n",
       "    .dataframe tbody tr th:only-of-type {\n",
       "        vertical-align: middle;\n",
       "    }\n",
       "\n",
       "    .dataframe tbody tr th {\n",
       "        vertical-align: top;\n",
       "    }\n",
       "\n",
       "    .dataframe thead th {\n",
       "        text-align: right;\n",
       "    }\n",
       "</style>\n",
       "<table border=\"1\" class=\"dataframe\">\n",
       "  <thead>\n",
       "    <tr style=\"text-align: right;\">\n",
       "      <th></th>\n",
       "      <th>Campaign Name</th>\n",
       "      <th>Date</th>\n",
       "      <th>Spend [USD]</th>\n",
       "      <th># of Impressions</th>\n",
       "      <th>Reach</th>\n",
       "      <th># of Website Clicks</th>\n",
       "      <th># of Searches</th>\n",
       "      <th># of View Content</th>\n",
       "      <th># of Add to Cart</th>\n",
       "      <th># of Purchase</th>\n",
       "    </tr>\n",
       "  </thead>\n",
       "  <tbody>\n",
       "    <tr>\n",
       "      <th>0</th>\n",
       "      <td>Control Campaign</td>\n",
       "      <td>1.08.2019</td>\n",
       "      <td>2280</td>\n",
       "      <td>82702.0</td>\n",
       "      <td>56930.0</td>\n",
       "      <td>7016.0</td>\n",
       "      <td>2290.0</td>\n",
       "      <td>2159.0</td>\n",
       "      <td>1819.0</td>\n",
       "      <td>618.0</td>\n",
       "    </tr>\n",
       "    <tr>\n",
       "      <th>1</th>\n",
       "      <td>Control Campaign</td>\n",
       "      <td>2.08.2019</td>\n",
       "      <td>1757</td>\n",
       "      <td>121040.0</td>\n",
       "      <td>102513.0</td>\n",
       "      <td>8110.0</td>\n",
       "      <td>2033.0</td>\n",
       "      <td>1841.0</td>\n",
       "      <td>1219.0</td>\n",
       "      <td>511.0</td>\n",
       "    </tr>\n",
       "    <tr>\n",
       "      <th>2</th>\n",
       "      <td>Control Campaign</td>\n",
       "      <td>3.08.2019</td>\n",
       "      <td>2343</td>\n",
       "      <td>131711.0</td>\n",
       "      <td>110862.0</td>\n",
       "      <td>6508.0</td>\n",
       "      <td>1737.0</td>\n",
       "      <td>1549.0</td>\n",
       "      <td>1134.0</td>\n",
       "      <td>372.0</td>\n",
       "    </tr>\n",
       "    <tr>\n",
       "      <th>3</th>\n",
       "      <td>Control Campaign</td>\n",
       "      <td>4.08.2019</td>\n",
       "      <td>1940</td>\n",
       "      <td>72878.0</td>\n",
       "      <td>61235.0</td>\n",
       "      <td>3065.0</td>\n",
       "      <td>1042.0</td>\n",
       "      <td>982.0</td>\n",
       "      <td>1183.0</td>\n",
       "      <td>340.0</td>\n",
       "    </tr>\n",
       "    <tr>\n",
       "      <th>4</th>\n",
       "      <td>Control Campaign</td>\n",
       "      <td>5.08.2019</td>\n",
       "      <td>1835</td>\n",
       "      <td>NaN</td>\n",
       "      <td>NaN</td>\n",
       "      <td>NaN</td>\n",
       "      <td>NaN</td>\n",
       "      <td>NaN</td>\n",
       "      <td>NaN</td>\n",
       "      <td>NaN</td>\n",
       "    </tr>\n",
       "  </tbody>\n",
       "</table>\n",
       "</div>"
      ],
      "text/plain": [
       "      Campaign Name       Date  Spend [USD]  # of Impressions     Reach  \\\n",
       "0  Control Campaign  1.08.2019         2280           82702.0   56930.0   \n",
       "1  Control Campaign  2.08.2019         1757          121040.0  102513.0   \n",
       "2  Control Campaign  3.08.2019         2343          131711.0  110862.0   \n",
       "3  Control Campaign  4.08.2019         1940           72878.0   61235.0   \n",
       "4  Control Campaign  5.08.2019         1835               NaN       NaN   \n",
       "\n",
       "   # of Website Clicks  # of Searches  # of View Content  # of Add to Cart  \\\n",
       "0               7016.0         2290.0             2159.0            1819.0   \n",
       "1               8110.0         2033.0             1841.0            1219.0   \n",
       "2               6508.0         1737.0             1549.0            1134.0   \n",
       "3               3065.0         1042.0              982.0            1183.0   \n",
       "4                  NaN            NaN                NaN               NaN   \n",
       "\n",
       "   # of Purchase  \n",
       "0          618.0  \n",
       "1          511.0  \n",
       "2          372.0  \n",
       "3          340.0  \n",
       "4            NaN  "
      ]
     },
     "execution_count": 2,
     "metadata": {},
     "output_type": "execute_result"
    }
   ],
   "source": [
    "# Load data\n",
    "df_control = pd.read_csv('control_group.csv', sep= ';')\n",
    "df_control.head()"
   ]
  },
  {
   "cell_type": "code",
   "execution_count": 3,
   "metadata": {},
   "outputs": [
    {
     "data": {
      "text/html": [
       "<div>\n",
       "<style scoped>\n",
       "    .dataframe tbody tr th:only-of-type {\n",
       "        vertical-align: middle;\n",
       "    }\n",
       "\n",
       "    .dataframe tbody tr th {\n",
       "        vertical-align: top;\n",
       "    }\n",
       "\n",
       "    .dataframe thead th {\n",
       "        text-align: right;\n",
       "    }\n",
       "</style>\n",
       "<table border=\"1\" class=\"dataframe\">\n",
       "  <thead>\n",
       "    <tr style=\"text-align: right;\">\n",
       "      <th></th>\n",
       "      <th>Campaign Name</th>\n",
       "      <th>Date</th>\n",
       "      <th>Spend [USD]</th>\n",
       "      <th># of Impressions</th>\n",
       "      <th>Reach</th>\n",
       "      <th># of Website Clicks</th>\n",
       "      <th># of Searches</th>\n",
       "      <th># of View Content</th>\n",
       "      <th># of Add to Cart</th>\n",
       "      <th># of Purchase</th>\n",
       "    </tr>\n",
       "  </thead>\n",
       "  <tbody>\n",
       "    <tr>\n",
       "      <th>0</th>\n",
       "      <td>Test Campaign</td>\n",
       "      <td>1.08.2019</td>\n",
       "      <td>3008</td>\n",
       "      <td>39550</td>\n",
       "      <td>35820</td>\n",
       "      <td>3038</td>\n",
       "      <td>1946</td>\n",
       "      <td>1069</td>\n",
       "      <td>894</td>\n",
       "      <td>255</td>\n",
       "    </tr>\n",
       "    <tr>\n",
       "      <th>1</th>\n",
       "      <td>Test Campaign</td>\n",
       "      <td>2.08.2019</td>\n",
       "      <td>2542</td>\n",
       "      <td>100719</td>\n",
       "      <td>91236</td>\n",
       "      <td>4657</td>\n",
       "      <td>2359</td>\n",
       "      <td>1548</td>\n",
       "      <td>879</td>\n",
       "      <td>677</td>\n",
       "    </tr>\n",
       "    <tr>\n",
       "      <th>2</th>\n",
       "      <td>Test Campaign</td>\n",
       "      <td>3.08.2019</td>\n",
       "      <td>2365</td>\n",
       "      <td>70263</td>\n",
       "      <td>45198</td>\n",
       "      <td>7885</td>\n",
       "      <td>2572</td>\n",
       "      <td>2367</td>\n",
       "      <td>1268</td>\n",
       "      <td>578</td>\n",
       "    </tr>\n",
       "    <tr>\n",
       "      <th>3</th>\n",
       "      <td>Test Campaign</td>\n",
       "      <td>4.08.2019</td>\n",
       "      <td>2710</td>\n",
       "      <td>78451</td>\n",
       "      <td>25937</td>\n",
       "      <td>4216</td>\n",
       "      <td>2216</td>\n",
       "      <td>1437</td>\n",
       "      <td>566</td>\n",
       "      <td>340</td>\n",
       "    </tr>\n",
       "    <tr>\n",
       "      <th>4</th>\n",
       "      <td>Test Campaign</td>\n",
       "      <td>5.08.2019</td>\n",
       "      <td>2297</td>\n",
       "      <td>114295</td>\n",
       "      <td>95138</td>\n",
       "      <td>5863</td>\n",
       "      <td>2106</td>\n",
       "      <td>858</td>\n",
       "      <td>956</td>\n",
       "      <td>768</td>\n",
       "    </tr>\n",
       "  </tbody>\n",
       "</table>\n",
       "</div>"
      ],
      "text/plain": [
       "   Campaign Name       Date  Spend [USD]  # of Impressions  Reach  \\\n",
       "0  Test Campaign  1.08.2019         3008             39550  35820   \n",
       "1  Test Campaign  2.08.2019         2542            100719  91236   \n",
       "2  Test Campaign  3.08.2019         2365             70263  45198   \n",
       "3  Test Campaign  4.08.2019         2710             78451  25937   \n",
       "4  Test Campaign  5.08.2019         2297            114295  95138   \n",
       "\n",
       "   # of Website Clicks  # of Searches  # of View Content  # of Add to Cart  \\\n",
       "0                 3038           1946               1069               894   \n",
       "1                 4657           2359               1548               879   \n",
       "2                 7885           2572               2367              1268   \n",
       "3                 4216           2216               1437               566   \n",
       "4                 5863           2106                858               956   \n",
       "\n",
       "   # of Purchase  \n",
       "0            255  \n",
       "1            677  \n",
       "2            578  \n",
       "3            340  \n",
       "4            768  "
      ]
     },
     "execution_count": 3,
     "metadata": {},
     "output_type": "execute_result"
    }
   ],
   "source": [
    "# Load data\n",
    "df_test = pd.read_csv('test_group.csv', sep= ';')\n",
    "df_test.head()"
   ]
  },
  {
   "cell_type": "code",
   "execution_count": 4,
   "metadata": {},
   "outputs": [],
   "source": [
    "# Replace column name\n",
    "df_control.columns = ['campaign_name', 'date', 'spend','impressions', \n",
    "                      'reach', 'website_clicks','searches','view_content',\n",
    "                        'add_to_cart','purchase']\n",
    "df_test.columns = ['campaign_name', 'date', 'spend','impressions',\n",
    "                      'reach', 'website_clicks','searches','view_content',\n",
    "                        'add_to_cart','purchase']"
   ]
  },
  {
   "cell_type": "markdown",
   "metadata": {},
   "source": [
    "## Data Cleaning"
   ]
  },
  {
   "cell_type": "code",
   "execution_count": 5,
   "metadata": {},
   "outputs": [
    {
     "name": "stdout",
     "output_type": "stream",
     "text": [
      "<class 'pandas.core.frame.DataFrame'>\n",
      "RangeIndex: 30 entries, 0 to 29\n",
      "Data columns (total 10 columns):\n",
      " #   Column          Non-Null Count  Dtype  \n",
      "---  ------          --------------  -----  \n",
      " 0   campaign_name   30 non-null     object \n",
      " 1   date            30 non-null     object \n",
      " 2   spend           30 non-null     int64  \n",
      " 3   impressions     29 non-null     float64\n",
      " 4   reach           29 non-null     float64\n",
      " 5   website_clicks  29 non-null     float64\n",
      " 6   searches        29 non-null     float64\n",
      " 7   view_content    29 non-null     float64\n",
      " 8   add_to_cart     29 non-null     float64\n",
      " 9   purchase        29 non-null     float64\n",
      "dtypes: float64(7), int64(1), object(2)\n",
      "memory usage: 2.5+ KB\n"
     ]
    }
   ],
   "source": [
    "df_control.info()"
   ]
  },
  {
   "cell_type": "code",
   "execution_count": 6,
   "metadata": {},
   "outputs": [
    {
     "name": "stdout",
     "output_type": "stream",
     "text": [
      "<class 'pandas.core.frame.DataFrame'>\n",
      "RangeIndex: 30 entries, 0 to 29\n",
      "Data columns (total 10 columns):\n",
      " #   Column          Non-Null Count  Dtype \n",
      "---  ------          --------------  ----- \n",
      " 0   campaign_name   30 non-null     object\n",
      " 1   date            30 non-null     object\n",
      " 2   spend           30 non-null     int64 \n",
      " 3   impressions     30 non-null     int64 \n",
      " 4   reach           30 non-null     int64 \n",
      " 5   website_clicks  30 non-null     int64 \n",
      " 6   searches        30 non-null     int64 \n",
      " 7   view_content    30 non-null     int64 \n",
      " 8   add_to_cart     30 non-null     int64 \n",
      " 9   purchase        30 non-null     int64 \n",
      "dtypes: int64(8), object(2)\n",
      "memory usage: 2.5+ KB\n"
     ]
    }
   ],
   "source": [
    "df_test.info()"
   ]
  },
  {
   "cell_type": "code",
   "execution_count": 7,
   "metadata": {},
   "outputs": [
    {
     "data": {
      "text/plain": [
       "campaign_name     0\n",
       "date              0\n",
       "spend             0\n",
       "impressions       1\n",
       "reach             1\n",
       "website_clicks    1\n",
       "searches          1\n",
       "view_content      1\n",
       "add_to_cart       1\n",
       "purchase          1\n",
       "dtype: int64"
      ]
     },
     "execution_count": 7,
     "metadata": {},
     "output_type": "execute_result"
    }
   ],
   "source": [
    "# check missing value\n",
    "df_control.isnull().sum()"
   ]
  },
  {
   "cell_type": "code",
   "execution_count": 8,
   "metadata": {},
   "outputs": [],
   "source": [
    "# handling missing value\n",
    "df_control['impressions'].fillna(df_control['impressions'].median(), inplace=True)\n",
    "df_control['reach'].fillna(df_control['reach'].median(), inplace=True)\n",
    "df_control['website_clicks'].fillna(df_control['website_clicks'].median(), inplace=True)\n",
    "df_control['searches'].fillna(df_control['searches'].median(), inplace=True)\n",
    "df_control['view_content'].fillna(df_control['view_content'].median(), inplace=True)\n",
    "df_control['add_to_cart'].fillna(df_control['add_to_cart'].median(), inplace=True)\n",
    "df_control['purchase'].fillna(df_control['purchase'].median(), inplace=True)"
   ]
  },
  {
   "cell_type": "code",
   "execution_count": 9,
   "metadata": {},
   "outputs": [
    {
     "data": {
      "text/plain": [
       "campaign_name     0\n",
       "date              0\n",
       "spend             0\n",
       "impressions       0\n",
       "reach             0\n",
       "website_clicks    0\n",
       "searches          0\n",
       "view_content      0\n",
       "add_to_cart       0\n",
       "purchase          0\n",
       "dtype: int64"
      ]
     },
     "execution_count": 9,
     "metadata": {},
     "output_type": "execute_result"
    }
   ],
   "source": [
    "# check missing value\n",
    "df_control.isnull().sum()"
   ]
  },
  {
   "cell_type": "code",
   "execution_count": 10,
   "metadata": {},
   "outputs": [
    {
     "data": {
      "text/plain": [
       "campaign_name     0\n",
       "date              0\n",
       "spend             0\n",
       "impressions       0\n",
       "reach             0\n",
       "website_clicks    0\n",
       "searches          0\n",
       "view_content      0\n",
       "add_to_cart       0\n",
       "purchase          0\n",
       "dtype: int64"
      ]
     },
     "execution_count": 10,
     "metadata": {},
     "output_type": "execute_result"
    }
   ],
   "source": [
    "# check missing value\n",
    "df_test.isnull().sum()"
   ]
  },
  {
   "cell_type": "code",
   "execution_count": 11,
   "metadata": {},
   "outputs": [
    {
     "data": {
      "text/plain": [
       "0"
      ]
     },
     "execution_count": 11,
     "metadata": {},
     "output_type": "execute_result"
    }
   ],
   "source": [
    "# Check duplicates\n",
    "df_control.duplicated().sum()"
   ]
  },
  {
   "cell_type": "code",
   "execution_count": 12,
   "metadata": {},
   "outputs": [
    {
     "data": {
      "text/plain": [
       "0"
      ]
     },
     "execution_count": 12,
     "metadata": {},
     "output_type": "execute_result"
    }
   ],
   "source": [
    "# Check duplicates\n",
    "df_test.duplicated().sum()"
   ]
  },
  {
   "cell_type": "code",
   "execution_count": 18,
   "metadata": {},
   "outputs": [
    {
     "name": "stdout",
     "output_type": "stream",
     "text": [
      "<class 'pandas.core.frame.DataFrame'>\n",
      "RangeIndex: 60 entries, 0 to 59\n",
      "Data columns (total 10 columns):\n",
      " #   Column          Non-Null Count  Dtype  \n",
      "---  ------          --------------  -----  \n",
      " 0   campaign_name   60 non-null     object \n",
      " 1   date            60 non-null     object \n",
      " 2   spend           60 non-null     int64  \n",
      " 3   impressions     60 non-null     float64\n",
      " 4   reach           60 non-null     float64\n",
      " 5   website_clicks  60 non-null     float64\n",
      " 6   searches        60 non-null     float64\n",
      " 7   view_content    60 non-null     float64\n",
      " 8   add_to_cart     60 non-null     float64\n",
      " 9   purchase        60 non-null     float64\n",
      "dtypes: float64(7), int64(1), object(2)\n",
      "memory usage: 4.8+ KB\n"
     ]
    }
   ],
   "source": [
    "# Merge dataset\n",
    "df = pd.concat([df_control, df_test], ignore_index=True)\n",
    "df.info()"
   ]
  },
  {
   "cell_type": "markdown",
   "metadata": {},
   "source": [
    "## Exploratory Data Analysis"
   ]
  },
  {
   "cell_type": "code",
   "execution_count": 15,
   "metadata": {},
   "outputs": [
    {
     "data": {
      "image/png": "[encoded data removed]",
      "text/plain": [
       "<Figure size 2000x1000 with 8 Axes>"
      ]
     },
     "metadata": {},
     "output_type": "display_data"
    }
   ],
   "source": [
    "# Displayed Columns\n",
    "categories = ['spend', 'impressions', 'reach', 'website_clicks', 'searches', 'view_content', 'add_to_cart', 'purchase']\n",
    "\n",
    "# Subplot Configuration\n",
    "fig, axes = plt.subplots(nrows=2, ncols=4, figsize=(20, 10))\n",
    "fig.suptitle('Comparison of Control and Test Campaign Performance')\n",
    "\n",
    "for i, category in enumerate(categories):\n",
    "    row = i // 4\n",
    "    col = i % 4\n",
    "\n",
    "    # Plot bar chart\n",
    "    bars = axes[row, col].bar(['Control', 'Test'], [df_control[category].sum(), df_test[category].sum()], color=['teal', 'turquoise'])\n",
    "    axes[row, col].set_title(category)\n",
    "    axes[row, col].set_ylabel('Values')\n",
    "\n",
    "    # Add label to each bar\n",
    "    for bar, label in zip(bars, [f'{val}' for val in [df_control[category].sum(), df_test[category].sum()]]):\n",
    "        axes[row, col].text(bar.get_x() + bar.get_width() / 2, bar.get_height(), label,\n",
    "                            ha='center', va='bottom')\n",
    "\n",
    "    # Hide the y-axis\n",
    "    axes[row, col].get_yaxis().set_visible(False)\n",
    "\n",
    "# Show the plot\n",
    "plt.show()"
   ]
  },
  {
   "cell_type": "markdown",
   "metadata": {},
   "source": [
    "## Calculate Metrics"
   ]
  },
  {
   "cell_type": "code",
   "execution_count": 20,
   "metadata": {},
   "outputs": [],
   "source": [
    "# Calculate CTR, Conversion Rate, CPC\n",
    "df['CTR'] = (df['website_clicks'] / df['impressions']) * 100\n",
    "df['Conversion_rate'] = (df['purchase'] / df['website_clicks']) * 100\n",
    "df['CPC'] = (df['spend'] / df['website_clicks']) * 100"
   ]
  },
  {
   "cell_type": "code",
   "execution_count": 24,
   "metadata": {},
   "outputs": [
    {
     "name": "stdout",
     "output_type": "stream",
     "text": [
      "<class 'pandas.core.frame.DataFrame'>\n",
      "RangeIndex: 60 entries, 0 to 59\n",
      "Data columns (total 13 columns):\n",
      " #   Column           Non-Null Count  Dtype  \n",
      "---  ------           --------------  -----  \n",
      " 0   campaign_name    60 non-null     object \n",
      " 1   date             60 non-null     object \n",
      " 2   spend            60 non-null     int64  \n",
      " 3   impressions      60 non-null     float64\n",
      " 4   reach            60 non-null     float64\n",
      " 5   website_clicks   60 non-null     float64\n",
      " 6   searches         60 non-null     float64\n",
      " 7   view_content     60 non-null     float64\n",
      " 8   add_to_cart      60 non-null     float64\n",
      " 9   purchase         60 non-null     float64\n",
      " 10  CTR              60 non-null     float64\n",
      " 11  Conversion_rate  60 non-null     float64\n",
      " 12  CPC              60 non-null     float64\n",
      "dtypes: float64(10), int64(1), object(2)\n",
      "memory usage: 6.2+ KB\n"
     ]
    }
   ],
   "source": [
    "df.info()"
   ]
  },
  {
   "cell_type": "markdown",
   "metadata": {},
   "source": [
    "Visualize "
   ]
  },
  {
   "cell_type": "code",
   "execution_count": 41,
   "metadata": {},
   "outputs": [
    {
     "data": {
      "image/png": "[encoded data removed]",
      "text/plain": [
       "<Figure size 1800x600 with 3 Axes>"
      ]
     },
     "metadata": {},
     "output_type": "display_data"
    }
   ],
   "source": [
    "# Visualize Boxplot\n",
    "fig, axes = plt.subplots(1, 3, figsize=(18, 6))\n",
    "# CTR Boxplot\n",
    "sns.boxplot(ax = axes[0], x='campaign_name', y='CTR', data=df, palette={'Control Campaign': 'teal', 'Test Campaign': 'turquoise'})\n",
    "axes[0].set_title('Boxplot CTR By Campaign')\n",
    "\n",
    "# Conversion Rate Boxplot\n",
    "sns.boxplot(ax = axes[1], x='campaign_name', y='Conversion_rate', data=df, palette={'Control Campaign': 'teal', 'Test Campaign': 'turquoise'})\n",
    "axes[1].set_title('Boxplot Conversion Rate By Campaign')\n",
    "\n",
    "# CPC Boxplot \n",
    "sns.boxplot(ax = axes[2], x='campaign_name', y='CPC', data=df, palette={'Control Campaign': 'teal', 'Test Campaign': 'turquoise'})\n",
    "axes[2].set_title('Boxplot CPC By Campaign')\n",
    "\n",
    "plt.tight_layout()\n",
    "plt.show()"
   ]
  },
  {
   "cell_type": "markdown",
   "metadata": {},
   "source": [
    "## Hypothesis Testing"
   ]
  },
  {
   "cell_type": "markdown",
   "metadata": {},
   "source": [
    "### Define Null and Alternative Hypothesis"
   ]
  },
  {
   "cell_type": "markdown",
   "metadata": {},
   "source": [
    "1. Rata-rata CTR test campaign lebih tinggi dari control campaign \n",
    "   - Hipotesis:\n",
    "   \n",
    "     H0: μ1=μ2 (rata-rata CTR test campaign sama dengan CTR control campaign)\n",
    "     \n",
    "     H1: μ1>μ2 (rata-rata CTR test campaign lebih besar dari CTR control campaign)\n",
    "   - Taraf Signifikan:\n",
    "   \n",
    "      α = 0,05\n",
    "\n",
    "2. Rata-rata Conversion rate test campaign lebih tinggi dari control campaign \n",
    "   - Hipotesis:\n",
    "   \n",
    "     H0: μ1=μ2 (rata-rata Conversion rate test campaign  sama dengan Conversion rate control campaign)\n",
    "     \n",
    "     H1: μ1>μ2 (rata-rata Conversion rate test campaign lebih besar dari Conversion rate control campaign)\n",
    "   - Taraf Signifikan:\n",
    "   \n",
    "      α = 0,05\n",
    "\n",
    "3. Rata-rata CPC test campaign lebih rendah dari control campaign\n",
    "   - Hipotesis:\n",
    "   \n",
    "     H0: μ1=μ2 (rata-rata CPC test campaign  sama dengan CPC control campaign)\n",
    "     \n",
    "     H1: μ1<μ2 (rata-rata CPC test campaign lebih rendah dari CPC control campaign)\n",
    "   - Taraf Signifikan:\n",
    "   \n",
    "      α = 0,05"
   ]
  },
  {
   "cell_type": "markdown",
   "metadata": {},
   "source": [
    "### Determine the statistical test and calculate\n",
    "\n",
    "Melakukan F test untuk menentukan t-test dengan varian sama atau tidak sama"
   ]
  },
  {
   "cell_type": "code",
   "execution_count": 22,
   "metadata": {},
   "outputs": [],
   "source": [
    "# Split control campaign and test campaign\n",
    "data_control = df[df['campaign_name'] == 'Control Campaign']\n",
    "data_test = df[df['campaign_name'] == 'Test Campaign']"
   ]
  },
  {
   "cell_type": "markdown",
   "metadata": {},
   "source": [
    "#### F-Test"
   ]
  },
  {
   "cell_type": "code",
   "execution_count": 26,
   "metadata": {},
   "outputs": [],
   "source": [
    "import scipy.stats\n",
    "\n",
    "# Define F-test function\n",
    "def f_test(control, test, metric_name):\n",
    "    # 1. Set Significant Level\n",
    "    alpha = 0.05\n",
    "\n",
    "    # Transform data to np array\n",
    "    control_data = np.array(control[metric_name])\n",
    "    test_data = np.array(test[metric_name])\n",
    "\n",
    "    # calculate F test statistics\n",
    "    f = np.var(control_data, ddof=1) / np.var(test_data, ddof=1)\n",
    "\n",
    "    # Define degree of freedom\n",
    "    dfn = control_data.size - 1  # numerator\n",
    "    dfd = test_data.size - 1  # denominator\n",
    "\n",
    "    # Calculate p-value & f_crit of F test statistics\n",
    "    p = 1 - scipy.stats.f.cdf(f, dfn, dfd)\n",
    "    f_crit = scipy.stats.f.ppf(1 - alpha, dfn, dfd)\n",
    "\n",
    "    # Return results as a dictionary\n",
    "    results = {\n",
    "        \"F-statistic value\": f,\n",
    "        \"F-critical value\": f_crit,\n",
    "        \"P-value\": p\n",
    "    }\n",
    "\n",
    "    return results"
   ]
  },
  {
   "cell_type": "code",
   "execution_count": 27,
   "metadata": {},
   "outputs": [
    {
     "name": "stdout",
     "output_type": "stream",
     "text": [
      "CTR (Click-Through Rate):\n",
      "F-statistic value: 0.089\n",
      "F-critical value: 1.861\n",
      "P-value: 1.000\n",
      "\n"
     ]
    }
   ],
   "source": [
    "# CTR\n",
    "ctr_results = f_test(data_control, data_test, 'CTR')\n",
    "print(\"CTR (Click-Through Rate):\")\n",
    "print(f\"F-statistic value: {ctr_results['F-statistic value']:.3f}\")\n",
    "print(f\"F-critical value: {ctr_results['F-critical value']:.3f}\")\n",
    "print(f\"P-value: {ctr_results['P-value']:.3f}\\n\")"
   ]
  },
  {
   "cell_type": "markdown",
   "metadata": {},
   "source": [
    "F-statistic < F-critical dan p-value > α, menunjukkan bahwa varians 'CTR' antara dua campaign sama."
   ]
  },
  {
   "cell_type": "code",
   "execution_count": 28,
   "metadata": {},
   "outputs": [
    {
     "name": "stdout",
     "output_type": "stream",
     "text": [
      "Conversion Rate:\n",
      "F-statistic value: 2.287\n",
      "F-critical value: 1.861\n",
      "P-value: 0.015\n",
      "\n"
     ]
    }
   ],
   "source": [
    "# Conversion Rate\n",
    "conversion_rate_results = f_test(data_control, data_test, 'Conversion_rate')\n",
    "print(\"Conversion Rate:\")\n",
    "print(f\"F-statistic value: {conversion_rate_results['F-statistic value']:.3f}\")\n",
    "print(f\"F-critical value: {conversion_rate_results['F-critical value']:.3f}\")\n",
    "print(f\"P-value: {conversion_rate_results['P-value']:.3f}\\n\")"
   ]
  },
  {
   "cell_type": "markdown",
   "metadata": {},
   "source": [
    "F-statistic > F-critical dan p-value < α menunjukkan bahwa varians 'Conversion_rate' antara dua campaign tidak sama."
   ]
  },
  {
   "cell_type": "code",
   "execution_count": 29,
   "metadata": {},
   "outputs": [
    {
     "name": "stdout",
     "output_type": "stream",
     "text": [
      "CPC (Cost Per Click):\n",
      "F-statistic value: 1.501\n",
      "F-critical value: 1.861\n",
      "P-value: 0.140\n"
     ]
    }
   ],
   "source": [
    "# CPC\n",
    "cpc_results = f_test(data_control, data_test, 'CPC')\n",
    "print(\"CPC (Cost Per Click):\")\n",
    "print(f\"F-statistic value: {cpc_results['F-statistic value']:.3f}\")\n",
    "print(f\"F-critical value: {cpc_results['F-critical value']:.3f}\")\n",
    "print(f\"P-value: {cpc_results['P-value']:.3f}\")"
   ]
  },
  {
   "cell_type": "markdown",
   "metadata": {},
   "source": [
    "F-statistic < F-critical dan p-value > α, menunjukkan bahwa varians 'CPC' antara dua campaign sama."
   ]
  },
  {
   "cell_type": "markdown",
   "metadata": {},
   "source": [
    "selanjutnya, t-test dilakukan mengacu pada hasil f-test"
   ]
  },
  {
   "cell_type": "markdown",
   "metadata": {},
   "source": [
    "#### T-test"
   ]
  },
  {
   "cell_type": "markdown",
   "metadata": {},
   "source": [
    "1. Rata-rata CTR test campaign lebih tinggi dari control campaign "
   ]
  },
  {
   "cell_type": "code",
   "execution_count": 36,
   "metadata": {},
   "outputs": [
    {
     "name": "stdout",
     "output_type": "stream",
     "text": [
      "CTR:\n",
      "T-statistic: 4.002\n",
      "t-Critical : 1.672\n",
      "P-value: 0.0001\n"
     ]
    }
   ],
   "source": [
    "# T-test Equal Variance\n",
    "from scipy import stats\n",
    "result = scipy.stats.ttest_ind(data_test['CTR'],\n",
    "                                data_control['CTR'],\n",
    "                                equal_var=True,\n",
    "                                alternative=\"greater\")\n",
    "\n",
    "# calculate t-critical (CTR)\n",
    "alpha = 0.05\n",
    "df = len(data_test['CTR'])+len(data_control['CTR'])-2  #df=n1+n2-2\n",
    "t_critical = stats.t.ppf(1 - alpha, df)\n",
    "\n",
    "print(\"CTR:\")\n",
    "print(f\"T-statistic: {result.statistic:.3f}\")\n",
    "print(f\"t-Critical : {t_critical:.3f}\")\n",
    "print(f\"P-value: {result.pvalue:.4f}\")"
   ]
  },
  {
   "cell_type": "markdown",
   "metadata": {},
   "source": [
    "2. Rata-rata Conversion rate test campaign lebih tinggi dari control campaign "
   ]
  },
  {
   "cell_type": "code",
   "execution_count": 37,
   "metadata": {},
   "outputs": [
    {
     "name": "stdout",
     "output_type": "stream",
     "text": [
      "Conversion Rate:\n",
      "T-statistic: -1.482\n",
      "t-Critical : 1.672\n",
      "P-value: 0.928\n"
     ]
    }
   ],
   "source": [
    "# T-test Unequal Variance\n",
    "result = scipy.stats.ttest_ind(data_test['Conversion_rate'],\n",
    "                                data_control['Conversion_rate'],\n",
    "                                equal_var=False,\n",
    "                                alternative=\"greater\")\n",
    "\n",
    "# calculate t-critical\n",
    "alpha = 0.05\n",
    "df = len(data_test['Conversion_rate'])+len(data_control['Conversion_rate'])-2  #df=n1+n2-2\n",
    "t_critical = stats.t.ppf(1 - alpha, df)\n",
    "\n",
    "print(\"Conversion Rate:\")\n",
    "print(f\"T-statistic: {result.statistic:.3f}\")\n",
    "print(f\"t-Critical : {t_critical:.3f}\")\n",
    "print(f\"P-value: {result.pvalue:.3f}\")"
   ]
  },
  {
   "cell_type": "markdown",
   "metadata": {},
   "source": [
    "3. Rata-rata CPC test campaign lebih rendah dari control campaign"
   ]
  },
  {
   "cell_type": "code",
   "execution_count": 38,
   "metadata": {},
   "outputs": [
    {
     "name": "stdout",
     "output_type": "stream",
     "text": [
      "CPC:\n",
      "T-statistic: -0.415\n",
      "t-Critical : 1.672\n",
      "P-value: 0.340\n"
     ]
    }
   ],
   "source": [
    "# T-test equal Variance\n",
    "result = scipy.stats.ttest_ind(data_test['CPC'],\n",
    "                                data_control['CPC'],\n",
    "                                equal_var=True,\n",
    "                                alternative=\"less\")\n",
    "\n",
    "# calculate t-critical (CPC)\n",
    "alpha = 0.05\n",
    "df = len(data_test['CPC'])+len(data_control['CPC'])-2  #df=n1+n2-2\n",
    "t_critical = stats.t.ppf(1 - alpha, df)\n",
    "\n",
    "print(\"CPC:\")\n",
    "print(f\"T-statistic: {result.statistic:.3f}\")\n",
    "print(f\"t-Critical : {t_critical:.3f}\")\n",
    "print(f\"P-value: {result.pvalue:.3f}\")"
   ]
  },
  {
   "cell_type": "markdown",
   "metadata": {},
   "source": [
    "Kesimpulan: \n",
    "1. CTR\n",
    "t-statistic > t-critical dan p-value < α maka tolak hipotesis null atau dengan tingkat keyakinan 95% terdapat cukup bukti bahwa rata-rata CTR test campaign lebih tinggi dibandingkan control campaign.\n",
    "2. Conversion Rate\n",
    "t-statistic < t-critical dan p-value > α maka gagal tolak hipotesis null atau dengan tingkat keyakinan 95% tidak terdapat cukup bukti bahwa rata-rata conversion rate test campaign lebih tinggi dibandingkan control campaign.\n",
    "3. CPC < t-critical dan p-value > α maka gagal tolak hipotesis null atau dengan tingkat keyakinan 95% tidak terdapat cukup bukti bahwa rata-rata CPC test campaign lebih tinggi dibandingkan control campaign."
   ]
  },
  {
   "cell_type": "markdown",
   "metadata": {},
   "source": [
    "#### Confidence Interval\n",
    "\n"
   ]
  },
  {
   "cell_type": "code",
   "execution_count": 46,
   "metadata": {},
   "outputs": [
    {
     "name": "stdout",
     "output_type": "stream",
     "text": [
      "Confidence Interval for CTR: [ 2.581 7.745 ]\n"
     ]
    }
   ],
   "source": [
    "from statsmodels.stats.weightstats import DescrStatsW, CompareMeans\n",
    "\n",
    "# Calculate Confidence Interval\n",
    "cm = CompareMeans(d1=DescrStatsW(data=data_test['CTR']),\n",
    "                  d2=DescrStatsW(data=data_control['CTR']))\n",
    "\n",
    "lower, upper = cm.tconfint_diff(alpha=0.05,\n",
    "                                alternative='two-sided',\n",
    "                                usevar='pooled')\n",
    "\n",
    "# Round the values to three decimal places\n",
    "lower = round(lower, 3)\n",
    "upper = round(upper, 3)\n",
    "\n",
    "print(\"Confidence Interval for CTR:\", \"[\", lower, upper, \"]\")"
   ]
  },
  {
   "cell_type": "code",
   "execution_count": 45,
   "metadata": {},
   "outputs": [
    {
     "name": "stdout",
     "output_type": "stream",
     "text": [
      "Confidence Interval for Conversion rate: [ -5.141 0.774 ]\n"
     ]
    }
   ],
   "source": [
    "# Calculate Confidence Interval\n",
    "cm = CompareMeans(d1=DescrStatsW(data=data_test['Conversion_rate']),\n",
    "                  d2=DescrStatsW(data=data_control['Conversion_rate']))\n",
    "\n",
    "lower, upper = cm.tconfint_diff(alpha=0.05,\n",
    "                                alternative='two-sided',\n",
    "                                usevar='unequal')\n",
    "\n",
    "# Round the values to three decimal places\n",
    "lower = round(lower, 3)\n",
    "upper = round(upper, 3)\n",
    "\n",
    "print(\"Confidence Interval for Conversion rate:\", \"[\", lower, upper, \"]\")"
   ]
  },
  {
   "cell_type": "code",
   "execution_count": 47,
   "metadata": {},
   "outputs": [
    {
     "name": "stdout",
     "output_type": "stream",
     "text": [
      "Confidence Interval for CPC: [ -12.46 8.18 ]\n"
     ]
    }
   ],
   "source": [
    "# Calculate Confidence Interval\n",
    "cm = CompareMeans(d1=DescrStatsW(data=data_test['CPC']),\n",
    "                  d2=DescrStatsW(data=data_control['CPC']))\n",
    "\n",
    "lower, upper = cm.tconfint_diff(alpha=0.05,\n",
    "                                alternative='two-sided',\n",
    "                                usevar='pooled')\n",
    "\n",
    "# Round the values to three decimal places\n",
    "lower = round(lower, 3)\n",
    "upper = round(upper, 3)\n",
    "\n",
    "print(\"Confidence Interval for CPC:\", \"[\", lower, upper, \"]\")"
   ]
  }
 ],
 "metadata": {
  "kernelspec": {
   "display_name": "Python 3",
   "language": "python",
   "name": "python3"
  },
  "language_info": {
   "codemirror_mode": {
    "name": "ipython",
    "version": 3
   },
   "file_extension": ".py",
   "mimetype": "text/x-python",
   "name": "python",
   "nbconvert_exporter": "python",
   "pygments_lexer": "ipython3",
   "version": "3.11.7"
  }
 },
 "nbformat": 4,
 "nbformat_minor": 2
}
